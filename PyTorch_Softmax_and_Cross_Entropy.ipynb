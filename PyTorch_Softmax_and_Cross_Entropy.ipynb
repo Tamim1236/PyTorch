{
  "nbformat": 4,
  "nbformat_minor": 0,
  "metadata": {
    "colab": {
      "provenance": []
    },
    "kernelspec": {
      "name": "python3",
      "display_name": "Python 3"
    },
    "language_info": {
      "name": "python"
    }
  },
  "cells": [
    {
      "cell_type": "code",
      "execution_count": 1,
      "metadata": {
        "id": "sr0htNzl_oKi"
      },
      "outputs": [],
      "source": [
        "import torch\n",
        "import torch.nn as nn\n",
        "import numpy as np"
      ]
    },
    {
      "cell_type": "code",
      "source": [
        "def softmax(x):\n",
        "  return np.exp(x) / np.sum(np.exp(x), axis=0) # denom: sum of all the 'x' values exponentiated"
      ],
      "metadata": {
        "id": "czhvsHx9AJPA"
      },
      "execution_count": 2,
      "outputs": []
    },
    {
      "cell_type": "code",
      "source": [
        "x = np.array([2.0, 1.0, 0.1])\n",
        "outputs = softmax(x)\n",
        "print('softmax numpy:', outputs)"
      ],
      "metadata": {
        "colab": {
          "base_uri": "https://localhost:8080/"
        },
        "id": "wwfauohoAcr5",
        "outputId": "c5071c65-2f67-4999-f21a-ac01a9b5afff"
      },
      "execution_count": 3,
      "outputs": [
        {
          "output_type": "stream",
          "name": "stdout",
          "text": [
            "softmax numpy: [0.65900114 0.24243297 0.09856589]\n"
          ]
        }
      ]
    },
    {
      "cell_type": "code",
      "source": [
        "# we can use the built-in torch.softmax() to get approximately the same results\n",
        "x = torch.tensor([2.0, 1.0, 0.1])\n",
        "outputs = torch.softmax(x, dim=0)\n",
        "print(outputs)"
      ],
      "metadata": {
        "colab": {
          "base_uri": "https://localhost:8080/"
        },
        "id": "pbsyltJ1Az5H",
        "outputId": "adf4a196-694a-469d-ed5f-ea276907bd22"
      },
      "execution_count": 4,
      "outputs": [
        {
          "output_type": "stream",
          "name": "stdout",
          "text": [
            "tensor([0.6590, 0.2424, 0.0986])\n"
          ]
        }
      ]
    },
    {
      "cell_type": "code",
      "source": [
        "def cross_entropy(actual, predicted):\n",
        "  loss = -np.sum(actual * np.log(predicted))\n",
        "  return loss # / float(predicted.shape[0]) - if we wanted to normalize it"
      ],
      "metadata": {
        "id": "-A7j3A63Dpa2"
      },
      "execution_count": 5,
      "outputs": []
    },
    {
      "cell_type": "code",
      "source": [
        "# one hot encoding for Y\n",
        "Y = np.array([1, 0, 0])\n",
        "\n",
        "Y_pred_good = np.array([0.7,0.2,0.1])\n",
        "Y_pred_bad = np.array([0.1,0.3,0.6])\n",
        "l1 = cross_entropy(Y, Y_pred_good)\n",
        "l2 = cross_entropy(Y, Y_pred_bad)\n",
        "print(f'Loss1 numpy: {l1:.4f}')\n",
        "print(f'Loss2 numpy: {l2:.4f}')"
      ],
      "metadata": {
        "colab": {
          "base_uri": "https://localhost:8080/"
        },
        "id": "0eMdOSfSD6VG",
        "outputId": "1cb47f6e-b10d-4397-f322-33eac2470778"
      },
      "execution_count": 6,
      "outputs": [
        {
          "output_type": "stream",
          "name": "stdout",
          "text": [
            "Loss1 numpy: 0.3567\n",
            "Loss2 numpy: 2.3026\n"
          ]
        }
      ]
    },
    {
      "cell_type": "code",
      "source": [
        "# now let's implement cross entropy using PyTorch directly\n",
        "loss = nn.CrossEntropyLoss()  \n",
        "\n",
        "# 3 possible classes: '0' '1' and '2'\n",
        "Y = torch.tensor([2, 0, 1])\n",
        "\n",
        "# n_samples x n_classes = 3x3\n",
        "# our Y is [2,0,1] which means that the first sample tensor should be class 2, the second class 0, ...\n",
        "# in Y_pred_good, the first tensor is class 2 (has its highest val at index 2), ...\n",
        "Y_pred_good = torch.tensor([[2.0, 1.0, 2.1], [2.2, 1.0, 0.1], [2.0, 3.0, 2.1]])\n",
        "Y_pred_bad = torch.tensor([[2.1, 1.0, 0.1], [0.5, 1.0, 0.1], [2.0, 3.0, 2.1]])\n",
        "\n",
        "# now compute the Cross-Entropy Loss with multiple samples\n",
        "l1 = loss(Y_pred_good, Y)\n",
        "l2 = loss(Y_pred_bad, Y)\n",
        "\n",
        "print(l1.item())\n",
        "print(l2.item())\n",
        "\n",
        "# lets get/print all our predictions\n",
        "# torch.max returns a tuple: (the maximum values, their corresponding indices)\n",
        "# computing torch.max(..., 1) on dimension 1 (the rows)\n",
        "_, predictions1 = torch.max(Y_pred_good, 1)\n",
        "_, predictions2 = torch.max(Y_pred_bad, 1)\n",
        "print(predictions1)\n",
        "print(predictions2)"
      ],
      "metadata": {
        "colab": {
          "base_uri": "https://localhost:8080/"
        },
        "id": "rSoMVStSGu5F",
        "outputId": "ac86e134-2af4-4db8-eae4-d133db57ed82"
      },
      "execution_count": 17,
      "outputs": [
        {
          "output_type": "stream",
          "name": "stdout",
          "text": [
            "0.5773889422416687\n",
            "1.3857358694076538\n",
            "tensor([2, 0, 1])\n",
            "tensor([0, 1, 1])\n"
          ]
        }
      ]
    }
  ]
}