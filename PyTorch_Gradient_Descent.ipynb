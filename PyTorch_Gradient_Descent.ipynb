{
  "nbformat": 4,
  "nbformat_minor": 0,
  "metadata": {
    "colab": {
      "provenance": []
    },
    "kernelspec": {
      "name": "python3",
      "display_name": "Python 3"
    },
    "language_info": {
      "name": "python"
    }
  },
  "cells": [
    {
      "cell_type": "markdown",
      "source": [
        "# Gradient Descent using Numpy"
      ],
      "metadata": {
        "id": "MKIkD-E_hSCJ"
      }
    },
    {
      "cell_type": "code",
      "source": [
        "# Let's start by doing it manually, just using numpy\n",
        "import numpy as np\n",
        "\n",
        "X = np.array([1,2,3,4], dtype=np.float32)\n",
        "Y = np.array([2,4,6,8], dtype=np.float32)\n",
        "\n",
        "w = 0.0\n",
        "\n",
        "# now we need to caculate the model predcition and loss\n",
        "\n",
        "# model prediction\n",
        "def forward(x):\n",
        "  return w * x\n",
        "\n",
        "# loss = MSE\n",
        "def loss(y, y_pred):\n",
        "  return ((y_pred - y)**2).mean()\n",
        "\n",
        "# gradient\n",
        "# MSE = 1/N * (w*x - y)**2\n",
        "# so dJ/dw = 1/N 2x (w*x - y)   -  y_pred = w*x\n",
        "def gradient(x,y,y_pred):\n",
        "  return np.dot(2*x, y_pred - y).mean() # .mean() needed for the 1/N\n",
        "\n",
        "\n",
        "print(f'Prediction before training is f(5) = {forward(5):.3f}')\n",
        "\n",
        "# Now let's start our training\n",
        "learning_rate = 0.01\n",
        "n_iters = 20\n",
        "\n",
        "for epoch in range(n_iters):\n",
        "  # first we need the prediction (through the forward pass)\n",
        "  y_pred = forward(X)\n",
        "\n",
        "  # now we need the loss\n",
        "  l = loss(Y, y_pred)\n",
        "\n",
        "  # now we need the gradients w.r.t w\n",
        "  dw = gradient(X,Y,y_pred)\n",
        "\n",
        "  # now update the weights\n",
        "  w -= learning_rate * dw\n",
        "\n",
        "  if epoch % 2 == 0: # printing a message at every other epoch\n",
        "    print(f'epoch {epoch+1}: w = {w:.3f}, loss = {l:.8f}')\n",
        "\n",
        "print(f'Prediction after training is f(5) = {forward(5):.3f}')\n",
        "\n",
        "# We see that with each training step, we are increasing our weights and decreasing our loss"
      ],
      "metadata": {
        "colab": {
          "base_uri": "https://localhost:8080/"
        },
        "id": "92cWS--QdZ37",
        "outputId": "5b6269aa-eb3b-485b-f942-f58d9b40dec2"
      },
      "execution_count": 2,
      "outputs": [
        {
          "output_type": "stream",
          "name": "stdout",
          "text": [
            "Prediction before training is f(5) = 0.000\n",
            "epoch 1: w = 1.200, loss = 30.00000000\n",
            "epoch 3: w = 1.872, loss = 0.76800019\n",
            "epoch 5: w = 1.980, loss = 0.01966083\n",
            "epoch 7: w = 1.997, loss = 0.00050331\n",
            "epoch 9: w = 1.999, loss = 0.00001288\n",
            "epoch 11: w = 2.000, loss = 0.00000033\n",
            "epoch 13: w = 2.000, loss = 0.00000001\n",
            "epoch 15: w = 2.000, loss = 0.00000000\n",
            "epoch 17: w = 2.000, loss = 0.00000000\n",
            "epoch 19: w = 2.000, loss = 0.00000000\n",
            "Prediction after training is f(5) = 10.000\n"
          ]
        }
      ]
    },
    {
      "cell_type": "markdown",
      "source": [
        "# Gradient Descent using Torch"
      ],
      "metadata": {
        "id": "pej7nqunhWDJ"
      }
    },
    {
      "cell_type": "code",
      "source": [
        "# Let's start by doing it manually, just using numpy\n",
        "import torch\n",
        "\n",
        "X = torch.tensor([1,2,3,4], dtype=torch.float32)\n",
        "Y = torch.tensor([2,4,6,8], dtype=torch.float32)\n",
        "\n",
        "w = torch.tensor(0.0, dtype=torch.float32, requires_grad=True)\n",
        "\n",
        "# now we need to caculate the model predcition and loss\n",
        "\n",
        "# model prediction\n",
        "def forward(x):\n",
        "  return w * x\n",
        "\n",
        "# loss = MSE\n",
        "def loss(y, y_pred):\n",
        "  return ((y_pred - y)**2).mean()\n",
        "\n",
        "\n",
        "print(f'Prediction before training is f(5) = {forward(5):.3f}')\n",
        "\n",
        "# Now let's start our training\n",
        "learning_rate = 0.01\n",
        "n_iters = 100\n",
        "\n",
        "for epoch in range(n_iters):\n",
        "  # first we need the prediction (through the forward pass)\n",
        "  y_pred = forward(X)\n",
        "\n",
        "  # now we need the loss\n",
        "  l = loss(Y, y_pred)\n",
        "\n",
        "  # now we need to do the backward pass\n",
        "  l.backward() # this will compute the gradient of our loss w.r.t 'w'\n",
        "\n",
        "\n",
        "  with torch.no_grad():\n",
        "    w -= learning_rate * w.grad  # we dont want this operation to be part of our gradient tracking graphs/computational graphs\n",
        "  \n",
        "  # make sure to zero the gradients\n",
        "  w.grad.zero_()\n",
        "\n",
        "  if epoch % 10 == 0: # printing a message at every other epoch\n",
        "    print(f'epoch {epoch+1}: w = {w:.3f}, loss = {l:.8f}')\n",
        "\n",
        "print(f'Prediction after training is f(5) = {forward(5):.3f}')\n",
        "\n",
        "# We see that with each training step, we are increasing our weights and decreasing our loss\n",
        "\n",
        "# with 20 iterations, we get \"Prediction after training is f(5) = 9.612\"\n",
        "# but we see that it is not correct \n",
        "# this is because the backpropagation is not as exact as the numerical gradient computation\n",
        "\n",
        "# by increasing our iterations from 20 to 100, we now get a correct prediction\n",
        "\n",
        "# next we will replace our manual loss and weight updates with PyTorch loss and optimizer classes"
      ],
      "metadata": {
        "colab": {
          "base_uri": "https://localhost:8080/"
        },
        "id": "-zxXtmXohaWc",
        "outputId": "1b2910a4-578b-47bb-c643-09da9bb3b807"
      },
      "execution_count": 4,
      "outputs": [
        {
          "output_type": "stream",
          "name": "stdout",
          "text": [
            "Prediction before training is f(5) = 0.000\n",
            "epoch 1: w = 0.300, loss = 30.00000000\n",
            "epoch 11: w = 1.665, loss = 1.16278565\n",
            "epoch 21: w = 1.934, loss = 0.04506890\n",
            "epoch 31: w = 1.987, loss = 0.00174685\n",
            "epoch 41: w = 1.997, loss = 0.00006770\n",
            "epoch 51: w = 1.999, loss = 0.00000262\n",
            "epoch 61: w = 2.000, loss = 0.00000010\n",
            "epoch 71: w = 2.000, loss = 0.00000000\n",
            "epoch 81: w = 2.000, loss = 0.00000000\n",
            "epoch 91: w = 2.000, loss = 0.00000000\n",
            "Prediction after training is f(5) = 10.000\n"
          ]
        }
      ]
    }
  ]
}