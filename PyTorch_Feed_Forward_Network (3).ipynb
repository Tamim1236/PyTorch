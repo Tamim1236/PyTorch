{
  "nbformat": 4,
  "nbformat_minor": 0,
  "metadata": {
    "colab": {
      "provenance": []
    },
    "kernelspec": {
      "name": "python3",
      "display_name": "Python 3"
    },
    "language_info": {
      "name": "python"
    }
  },
  "cells": [
    {
      "cell_type": "code",
      "execution_count": 1,
      "metadata": {
        "id": "p6hLwux2XTdd"
      },
      "outputs": [],
      "source": [
        "import torch\n",
        "import torch.nn as nn\n",
        "import torchvision\n",
        "import torchvision.transforms as transforms\n",
        "import matplotlib.pyplot as plt"
      ]
    },
    {
      "cell_type": "code",
      "source": [
        "# device config\n",
        "device = torch.device('cuda' if torch.cuda.is_available() else 'cpu')"
      ],
      "metadata": {
        "id": "jeZlpVL_bW7g"
      },
      "execution_count": 3,
      "outputs": []
    },
    {
      "cell_type": "code",
      "source": [
        "# our hyperparameters\n",
        "input_size = 784 # since we are flattening 28x28 images\n",
        "hidden_size = 100\n",
        "num_classes = 10 # digits 0-9\n",
        "num_epochs = 2\n",
        "batch_size = 100\n",
        "learning_rate = 0.001"
      ],
      "metadata": {
        "id": "4dM_YHgubkXe"
      },
      "execution_count": 4,
      "outputs": []
    },
    {
      "cell_type": "code",
      "source": [
        "# MNIST\n",
        "train_dataset = torchvision.datasets.MNIST(root='./data', train=True, transform=transforms.ToTensor(), download=True)\n",
        "test_dataset = torchvision.datasets.MNIST(root='./data', train=False, transform=transforms.ToTensor())\n",
        "\n",
        "train_loader = torch.utils.data.DataLoader(dataset = train_dataset, batch_size = batch_size, shuffle=True)\n",
        "test_loader = torch.utils.data.DataLoader(dataset = test_dataset, batch_size = batch_size, shuffle=False)\n",
        "\n",
        "examples = iter(train_loader)\n",
        "samples, labels = examples.__next__()\n",
        "\n",
        "print(samples.shape, labels.shape)\n",
        "\n",
        "for i in range(6):\n",
        "  plt.subplot(2,3, i+1) # 2 rows, 3 columns, index i+1\n",
        "  plt.imshow(samples[i][0], cmap='gray') # '0' to access the first channel\n",
        "  plt.show()"
      ],
      "metadata": {
        "colab": {
          "base_uri": "https://localhost:8080/",
          "height": 1000
        },
        "id": "--h5SzanbkUN",
        "outputId": "a5615571-339d-4a73-f014-1ff2af1aab48"
      },
      "execution_count": 13,
      "outputs": [
        {
          "output_type": "stream",
          "name": "stdout",
          "text": [
            "torch.Size([100, 1, 28, 28]) torch.Size([100])\n"
          ]
        },
        {
          "output_type": "display_data",
          "data": {
            "text/plain": [
              "<Figure size 640x480 with 1 Axes>"
            ],
            "image/png": "[encoded data removed]"
          },
          "metadata": {}
        },
        {
          "output_type": "display_data",
          "data": {
            "text/plain": [
              "<Figure size 640x480 with 1 Axes>"
            ],
            "image/png": "[encoded data removed]"
          },
          "metadata": {}
        },
        {
          "output_type": "display_data",
          "data": {
            "text/plain": [
              "<Figure size 640x480 with 1 Axes>"
            ],
            "image/png": "[encoded data removed]"
          },
          "metadata": {}
        },
        {
          "output_type": "display_data",
          "data": {
            "text/plain": [
              "<Figure size 640x480 with 1 Axes>"
            ],
            "image/png": "[encoded data removed]"
          },
          "metadata": {}
        },
        {
          "output_type": "display_data",
          "data": {
            "text/plain": [
              "<Figure size 640x480 with 1 Axes>"
            ],
            "image/png": "[encoded data removed]"
          },
          "metadata": {}
        },
        {
          "output_type": "display_data",
          "data": {
            "text/plain": [
              "<Figure size 640x480 with 1 Axes>"
            ],
            "image/png": "[encoded data removed]"
          },
          "metadata": {}
        }
      ]
    },
    {
      "cell_type": "code",
      "source": [
        "# now we will create a fully-connected neural network with one hidden layer in order to be able to classify these images\n",
        "class NeuralNetwork(nn.Module):\n",
        "  def __init__(self, input_size, hidden_size, num_classes): # num_classes is basically our ouput size\n",
        "    super(NeuralNetwork, self).__init__()\n",
        "    self.l1 = nn.Linear(input_size, hidden_size)\n",
        "    self.relu = nn.ReLU()\n",
        "    self.l2 = nn.Linear(hidden_size, num_classes)\n",
        "\n",
        "  def forward(self, x):\n",
        "    out = self.l1(x)\n",
        "    out = self.relu(out)\n",
        "    out = self.l2(out)\n",
        "    return out # no need to return softmax here since the CE loss we add in later will take care of that automatically"
      ],
      "metadata": {
        "id": "c7WdL4VphjUy"
      },
      "execution_count": 14,
      "outputs": []
    },
    {
      "cell_type": "code",
      "source": [
        "# lets create an instance of our model\n",
        "model = NeuralNetwork(input_size, hidden_size, num_classes)\n",
        "\n",
        "# loss and optimizer\n",
        "criterion = nn.CrossEntropyLoss()\n",
        "optimizer = torch.optim.Adam(model.parameters(), lr=learning_rate)\n",
        "\n",
        "\n",
        "# training loop\n",
        "n_total_steps = len(train_loader)\n",
        "\n",
        "for epoch in range(num_epochs):\n",
        "  for i, (images, labels) in enumerate(train_loader):\n",
        "    # the size is 100, 1, 28, 28\n",
        "    # we set out input size of tensor to be 100, 784\n",
        "    images = images.reshape(-1, 28*28).to(device) # push it to the GPU (if GPU available)\n",
        "    labels = labels.to(device) # push it to the GPU (if GPU available)\n",
        "\n",
        "    # forward pass\n",
        "    outputs = model(images)\n",
        "    loss = criterion(outputs, labels)\n",
        "\n",
        "    # backward pass\n",
        "    optimizer.zero_grad() # clear out previous gradients\n",
        "    loss.backward() # do the backprop\n",
        "    optimizer.step() # update our parameters\n",
        "\n",
        "    if (i+1) % 100 == 0:\n",
        "      print(f\"this is epoch {epoch+1} / {num_epochs}, step {i+1}/{n_total_steps}, loss={loss.item():.4f}\")\n",
        "\n",
        "# testing loop\n",
        "with torch.no_grad():\n",
        "  n_correct = 0\n",
        "  n_samples = 0\n",
        "\n",
        "  for images, labels in test_loader: # going through all the batches\n",
        "    images = images.reshape(-1, 28*28).to(device) # push it to the GPU (if GPU available)\n",
        "    labels = labels.to(device) # push it to the GPU (if GPU available)\n",
        "    outputs = model(images)\n",
        "\n",
        "    # value, index\n",
        "    _, predictions = torch.max(outputs, 1) # finding the max indices along the second dimension (dim=1)\n",
        "    n_samples += labels.shape[0] # gives us number of samples in current batch (so should be 100)\n",
        "    n_correct += (predictions==labels).sum().item()\n",
        "\n",
        "  \n",
        "  accuracy = 100 * n_correct/n_samples\n",
        "  print(f'Accuracy = {accuracy}')"
      ],
      "metadata": {
        "colab": {
          "base_uri": "https://localhost:8080/"
        },
        "id": "XyqBpnsOi-iV",
        "outputId": "5dab2347-80c4-497a-b9f6-f94588520a96"
      },
      "execution_count": 15,
      "outputs": [
        {
          "output_type": "stream",
          "name": "stdout",
          "text": [
            "this is epoch 1 / 2, step 100/600, loss=0.5013\n",
            "this is epoch 1 / 2, step 200/600, loss=0.3297\n",
            "this is epoch 1 / 2, step 300/600, loss=0.1822\n",
            "this is epoch 1 / 2, step 400/600, loss=0.3775\n",
            "this is epoch 1 / 2, step 500/600, loss=0.3855\n",
            "this is epoch 1 / 2, step 600/600, loss=0.2240\n",
            "this is epoch 2 / 2, step 100/600, loss=0.2028\n",
            "this is epoch 2 / 2, step 200/600, loss=0.3065\n",
            "this is epoch 2 / 2, step 300/600, loss=0.2736\n",
            "this is epoch 2 / 2, step 400/600, loss=0.1174\n",
            "this is epoch 2 / 2, step 500/600, loss=0.3248\n",
            "this is epoch 2 / 2, step 600/600, loss=0.1733\n",
            "Accuracy = 94.97\n"
          ]
        }
      ]
    }
  ]
}