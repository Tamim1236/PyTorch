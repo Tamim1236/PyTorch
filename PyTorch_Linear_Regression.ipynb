{
  "nbformat": 4,
  "nbformat_minor": 0,
  "metadata": {
    "colab": {
      "provenance": []
    },
    "kernelspec": {
      "name": "python3",
      "display_name": "Python 3"
    },
    "language_info": {
      "name": "python"
    }
  },
  "cells": [
    {
      "cell_type": "markdown",
      "source": [
        "To recap, we follow the following steps for our models in PyTorch:\n",
        "- Design Model (input, output size, forward pass)\n",
        "- Construct loss and optimizer\n",
        "- Training loop:\n",
        "    - forward pass: compute the prediction and loss\n",
        "    - backward pass: compute the gradients\n",
        "    - update the weights"
      ],
      "metadata": {
        "id": "4gDtHfFMraEP"
      }
    },
    {
      "cell_type": "code",
      "execution_count": 1,
      "metadata": {
        "id": "DXn9w8d6nM9w"
      },
      "outputs": [],
      "source": [
        "import torch\n",
        "import torch.nn as nn\n",
        "import numpy as np\n",
        "from sklearn import datasets\n",
        "import matplotlib.pyplot as plt"
      ]
    },
    {
      "cell_type": "code",
      "source": [
        "# prepare our data\n",
        "X_numpy, y_numpy = datasets.make_regression(n_samples=100,n_features=1, noise=20, random_state=1)\n",
        "#  used to generate a random dataset that can be used for regression tasks\n",
        "#  generates a dataset with a # of features and samples, and a target variable that is a linear func. of the input features with some added noise\n",
        "\n",
        "# initially X_numpy has a double datatype which can lead to errors, so we convert it to float32\n",
        "# torch.from_numpy() is used to convert from a numpy array to a torch tensor\n",
        "\n",
        "# .astype() is a method in numpy and pandas that allow us to convert the datatype of the array or pandas dataframe\n",
        "\n",
        "X = torch.from_numpy(X_numpy.astype(np.float32))\n",
        "y = torch.from_numpy(y_numpy.astype(np.float32))\n",
        "\n",
        "# right now, 'y' has all its values as a single row and we want to make it a column vector\n",
        "y = y.view((y.shape[0], 1)) # .view() reshapes the tensor - argument is a tuple for the new dimensions\n",
        "\n",
        "n_samples, num_features = X.shape # samples = rows, features = columns\n",
        "\n",
        "# design the model\n",
        "\n",
        "# for linear regression here we are just having one layer, so we can use the built-in Linear module\n",
        "input_size = num_features\n",
        "output_size = 1 # we just want one value for every sample that we put in\n",
        "model = nn.Linear(input_size, output_size)\n",
        "\n",
        "\n",
        "# define the loss and optimizer\n",
        "criterion = nn.MSELoss()\n",
        "learning_rate = 0.01\n",
        "optimizer = torch.optim.SGD(model.parameters(), lr=learning_rate)\n",
        "\n",
        "\n",
        "# training loop\n",
        "num_epochs = 100\n",
        "\n",
        "for epoch in range(num_epochs):\n",
        "  # forward pass\n",
        "  y_pred = model(X)\n",
        "  curr_loss = criterion(y_pred, y)\n",
        "  \n",
        "  # backward pass\n",
        "  curr_loss.backward() # doing backpropagation on and calculate the gradients w.r.t the current_loss\n",
        "  \n",
        "  # update\n",
        "  optimizer.step()\n",
        "  optimizer.zero_grad() # clear the gradients\n",
        "\n",
        "  # let's also print some info every 10th step\n",
        "  if (epoch + 1) % 10 == 0:\n",
        "    print(f'epoch: {epoch+1}, loss = {curr_loss.item():.4f}') # .item() to get the actual value - formatted to only ger 4 decimal values\n",
        "\n",
        "\n",
        "\n",
        "# now let's plot this\n",
        "\n",
        "# we are now calling the final model (post testing)\n",
        "predicted = model(X).detach().numpy()\n",
        "# we want to prevent this operation from being tracked in our computational graph, so we detach it\n",
        "# currently, the tensor has the required_grad = True but we want to set it to false\n",
        "# so detaching generates a new tensor where grad calculation attribute is false\n",
        "\n",
        "# plotting X vs labels, and X vs predictions\n",
        "plt.plot(X_numpy, y_numpy, 'ro') # 'ro' for red dots\n",
        "plt.plot(X_numpy, predicted, 'b') # 'b' for blue line\n",
        "plt.show()\n",
        "\n",
        "\n"
      ],
      "metadata": {
        "colab": {
          "base_uri": "https://localhost:8080/",
          "height": 439
        },
        "id": "Sjw9ZMGMtCd3",
        "outputId": "8f5bb01a-5907-43ec-e352-cb38c4a77e39"
      },
      "execution_count": 3,
      "outputs": [
        {
          "output_type": "stream",
          "name": "stdout",
          "text": [
            "epoch: 10, loss = 4454.6499\n",
            "epoch: 20, loss = 3322.6072\n",
            "epoch: 30, loss = 2503.3635\n",
            "epoch: 40, loss = 1909.8629\n",
            "epoch: 50, loss = 1479.4819\n",
            "epoch: 60, loss = 1167.1072\n",
            "epoch: 70, loss = 940.1935\n",
            "epoch: 80, loss = 775.2341\n",
            "epoch: 90, loss = 655.2285\n",
            "epoch: 100, loss = 567.8697\n"
          ]
        },
        {
          "output_type": "display_data",
          "data": {
            "text/plain": [
              "<Figure size 432x288 with 1 Axes>"
            ],
            "image/png": "[encoded data removed]"
          },
          "metadata": {
            "needs_background": "light"
          }
        }
      ]
    },
    {
      "cell_type": "code",
      "source": [],
      "metadata": {
        "id": "YlLMEyKytEKF"
      },
      "execution_count": null,
      "outputs": []
    }
  ]
}