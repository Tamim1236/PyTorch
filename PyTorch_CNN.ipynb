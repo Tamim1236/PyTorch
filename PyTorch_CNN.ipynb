{
  "nbformat": 4,
  "nbformat_minor": 0,
  "metadata": {
    "colab": {
      "provenance": [],
      "gpuType": "T4"
    },
    "kernelspec": {
      "name": "python3",
      "display_name": "Python 3"
    },
    "language_info": {
      "name": "python"
    },
    "accelerator": "GPU"
  },
  "cells": [
    {
      "cell_type": "code",
      "execution_count": 1,
      "metadata": {
        "id": "PgQqb5lGi1HC"
      },
      "outputs": [],
      "source": [
        "import torch\n",
        "import torch.nn as nn\n",
        "import torch.nn.functional as F\n",
        "import torchvision\n",
        "import torchvision.transforms as transforms\n",
        "import matplotlib.pyplot as plt\n",
        "import numpy as np"
      ]
    },
    {
      "cell_type": "code",
      "source": [
        "device = torch.device('cuda' if torch.cuda.is_available() else 'cpu') # device GPU if avaiable"
      ],
      "metadata": {
        "id": "TbMpWGwNjrYD"
      },
      "execution_count": 2,
      "outputs": []
    },
    {
      "cell_type": "code",
      "source": [
        "# hyperparameters\n",
        "num_epochs = 10\n",
        "batch_size = 4\n",
        "learning_rate = 0.01"
      ],
      "metadata": {
        "id": "2PHeRSxYjz4a"
      },
      "execution_count": 8,
      "outputs": []
    },
    {
      "cell_type": "code",
      "source": [
        "transform = transforms.Compose([transforms.ToTensor(), transforms.Normalize((0.5,0.5,0.5), (0.5,0.5,0.5))])\n",
        "\n",
        "train_dataset = torchvision.datasets.CIFAR10(root='./data', train=True, download=True, transform=transform)\n",
        "test_dataset = torchvision.datasets.CIFAR10(root='./data', train=False, download=True, transform=transform)\n",
        "\n",
        "train_loader = torch.utils.data.DataLoader(train_dataset, batch_size=batch_size, shuffle=True)\n",
        "test_loader = torch.utils.data.DataLoader(test_dataset, batch_size=batch_size, shuffle=False)\n",
        "\n",
        "classes = ('plane', 'car', 'bird', 'cat', 'deer', 'dog', 'frog', 'house', 'ship', 'truck')"
      ],
      "metadata": {
        "colab": {
          "base_uri": "https://localhost:8080/"
        },
        "id": "PMW-qfSYj5QJ",
        "outputId": "2d46d42d-34b4-4f1f-a1d6-a66f2b41d565"
      },
      "execution_count": 4,
      "outputs": [
        {
          "output_type": "stream",
          "name": "stdout",
          "text": [
            "Downloading https://www.cs.toronto.edu/~kriz/cifar-10-python.tar.gz to ./data/cifar-10-python.tar.gz\n"
          ]
        },
        {
          "output_type": "stream",
          "name": "stderr",
          "text": [
            "100%|██████████| 170498071/170498071 [00:13<00:00, 13029265.84it/s]\n"
          ]
        },
        {
          "output_type": "stream",
          "name": "stdout",
          "text": [
            "Extracting ./data/cifar-10-python.tar.gz to ./data\n",
            "Files already downloaded and verified\n"
          ]
        }
      ]
    },
    {
      "cell_type": "code",
      "source": [
        "# Implementation of CNN\n",
        "class CNN(nn.Module):\n",
        "  def __init__(self):\n",
        "    super(CNN, self).__init__()\n",
        "    self.conv1 = nn.Conv2d(3, 6, 5) # 3 input channels (r,g,b), output channel size of 6, and kernel size of 5\n",
        "    self.pool = nn.MaxPool2d(2, 2)\n",
        "    self.conv2 = nn.Conv2d(6, 16, 5)\n",
        "    self.fc1 = nn.Linear(16*5*5, 120)\n",
        "    self.fc2 = nn.Linear(120, 84)\n",
        "    self.fc3 = nn.Linear(84, 10)\n",
        "  \n",
        "  def forward(self, x):\n",
        "    # Convolution steps\n",
        "    x = self.pool(F.relu(self.conv1(x)))\n",
        "    x = self.pool(F.relu(self.conv2(x)))\n",
        "    \n",
        "    # Flattening steps\n",
        "    x = x.view(-1, 16*5*5) # first index is for number of samples we have in our batch (4 in this case)\n",
        "    x = F.relu(self.fc1(x))\n",
        "    x = F.relu(self.fc2(x))\n",
        "    x = self.fc3(x)\n",
        "    return x\n"
      ],
      "metadata": {
        "id": "CEFGn0UolwRc"
      },
      "execution_count": 5,
      "outputs": []
    },
    {
      "cell_type": "code",
      "source": [
        "model = CNN().to(device)\n",
        "criterion = nn.CrossEntropyLoss()\n",
        "optimizer = torch.optim.SGD(model.parameters(), lr=learning_rate)"
      ],
      "metadata": {
        "id": "8f1RqcuKr2PY"
      },
      "execution_count": 6,
      "outputs": []
    },
    {
      "cell_type": "code",
      "source": [
        "n_total_steps = len(train_loader)\n",
        "\n",
        "for epoch in range(num_epochs):\n",
        "  for i, (images, labels) in enumerate(train_loader):\n",
        "    # original shape: [4, 3, 32, 32] = 4, 3, 1024\n",
        "    # input_layer: 3 input channels, 6 output channels, 5 kernel size\n",
        "    images = images.to(device)\n",
        "    labels = labels.to(device)\n",
        "\n",
        "    # forward pass\n",
        "    outputs = model(images)\n",
        "    loss = criterion(outputs, labels)\n",
        "\n",
        "    # backward pass\n",
        "    optimizer.zero_grad()\n",
        "    loss.backward()\n",
        "    optimizer.step()\n",
        "\n",
        "    if (i+1) % 2000 == 0:\n",
        "      print(f\"Epoch {epoch+1}/{num_epochs}, Step {i+1}/{n_total_steps}, Loss {loss.item():.4f}\")\n",
        "\n",
        "    #print(\"Finished Training the Model\")\n",
        "\n",
        "# testing\n",
        "with torch.no_grad():\n",
        "  n_correct = 0\n",
        "  n_samples = 0\n",
        "  n_class_correct = [0 for i in range(10)]\n",
        "  n_class_samples = [0 for i in range(10)]\n",
        "\n",
        "  for images, labels in test_loader:\n",
        "    images = images.to(device)\n",
        "    labels = labels.to(device)\n",
        "    outputs = model(images)\n",
        "\n",
        "    _, predicted = torch.max(outputs, 1)\n",
        "    n_samples += labels.size(0)\n",
        "    n_correct += (predicted == labels).sum().item()\n",
        "\n",
        "    for i in range(batch_size):\n",
        "      label = labels[i]\n",
        "      pred = predicted[i]\n",
        "\n",
        "      if(label==pred):\n",
        "        n_class_correct[label] += 1\n",
        "      \n",
        "      n_class_samples[label] += 1\n",
        "\n",
        "  acc = 100.0 * n_correct / n_samples\n",
        "  print(f'Accuracy of the network: {acc} %')\n",
        "\n",
        "  for i in range(10):\n",
        "    acc = 100.0 * n_class_correct[i] / n_class_samples[i]\n",
        "    print(f'Accuracy of {classes[i]}: {acc} %')\n"
      ],
      "metadata": {
        "colab": {
          "base_uri": "https://localhost:8080/"
        },
        "id": "MasYToM1sG5x",
        "outputId": "b65411d6-562c-4e24-8c63-ba48f7f3b14d"
      },
      "execution_count": 9,
      "outputs": [
        {
          "output_type": "stream",
          "name": "stdout",
          "text": [
            "Epoch 1/10, Step 2000/12500, Loss 1.0617\n",
            "Epoch 1/10, Step 4000/12500, Loss 1.4392\n",
            "Epoch 1/10, Step 6000/12500, Loss 0.3187\n",
            "Epoch 1/10, Step 8000/12500, Loss 0.0529\n",
            "Epoch 1/10, Step 10000/12500, Loss 0.8881\n",
            "Epoch 1/10, Step 12000/12500, Loss 0.9282\n",
            "Epoch 2/10, Step 2000/12500, Loss 0.4553\n",
            "Epoch 2/10, Step 4000/12500, Loss 0.5683\n",
            "Epoch 2/10, Step 6000/12500, Loss 1.6721\n",
            "Epoch 2/10, Step 8000/12500, Loss 1.3703\n",
            "Epoch 2/10, Step 10000/12500, Loss 1.0654\n",
            "Epoch 2/10, Step 12000/12500, Loss 0.6492\n",
            "Epoch 3/10, Step 2000/12500, Loss 0.8814\n",
            "Epoch 3/10, Step 4000/12500, Loss 0.5439\n",
            "Epoch 3/10, Step 6000/12500, Loss 0.6229\n",
            "Epoch 3/10, Step 8000/12500, Loss 1.3979\n",
            "Epoch 3/10, Step 10000/12500, Loss 1.3146\n",
            "Epoch 3/10, Step 12000/12500, Loss 0.1543\n",
            "Epoch 4/10, Step 2000/12500, Loss 1.4861\n",
            "Epoch 4/10, Step 4000/12500, Loss 0.2086\n",
            "Epoch 4/10, Step 6000/12500, Loss 0.5325\n",
            "Epoch 4/10, Step 8000/12500, Loss 1.7736\n",
            "Epoch 4/10, Step 10000/12500, Loss 2.0964\n",
            "Epoch 4/10, Step 12000/12500, Loss 0.1802\n",
            "Epoch 5/10, Step 2000/12500, Loss 0.5882\n",
            "Epoch 5/10, Step 4000/12500, Loss 0.3978\n",
            "Epoch 5/10, Step 6000/12500, Loss 0.2903\n",
            "Epoch 5/10, Step 8000/12500, Loss 0.6724\n",
            "Epoch 5/10, Step 10000/12500, Loss 1.2805\n",
            "Epoch 5/10, Step 12000/12500, Loss 0.3797\n",
            "Epoch 6/10, Step 2000/12500, Loss 0.7945\n",
            "Epoch 6/10, Step 4000/12500, Loss 1.1861\n",
            "Epoch 6/10, Step 6000/12500, Loss 0.3033\n",
            "Epoch 6/10, Step 8000/12500, Loss 0.2223\n",
            "Epoch 6/10, Step 10000/12500, Loss 0.7195\n",
            "Epoch 6/10, Step 12000/12500, Loss 1.7706\n",
            "Epoch 7/10, Step 2000/12500, Loss 1.5998\n",
            "Epoch 7/10, Step 4000/12500, Loss 1.3848\n",
            "Epoch 7/10, Step 6000/12500, Loss 0.2733\n",
            "Epoch 7/10, Step 8000/12500, Loss 1.5647\n",
            "Epoch 7/10, Step 10000/12500, Loss 1.2157\n",
            "Epoch 7/10, Step 12000/12500, Loss 1.0350\n",
            "Epoch 8/10, Step 2000/12500, Loss 0.9899\n",
            "Epoch 8/10, Step 4000/12500, Loss 0.6324\n",
            "Epoch 8/10, Step 6000/12500, Loss 0.0904\n",
            "Epoch 8/10, Step 8000/12500, Loss 0.6277\n",
            "Epoch 8/10, Step 10000/12500, Loss 0.5139\n",
            "Epoch 8/10, Step 12000/12500, Loss 0.2167\n",
            "Epoch 9/10, Step 2000/12500, Loss 0.8570\n",
            "Epoch 9/10, Step 4000/12500, Loss 0.0304\n",
            "Epoch 9/10, Step 6000/12500, Loss 0.4801\n",
            "Epoch 9/10, Step 8000/12500, Loss 1.2852\n",
            "Epoch 9/10, Step 10000/12500, Loss 1.0051\n",
            "Epoch 9/10, Step 12000/12500, Loss 0.0363\n",
            "Epoch 10/10, Step 2000/12500, Loss 0.2565\n",
            "Epoch 10/10, Step 4000/12500, Loss 0.6433\n",
            "Epoch 10/10, Step 6000/12500, Loss 1.1542\n",
            "Epoch 10/10, Step 8000/12500, Loss 1.1669\n",
            "Epoch 10/10, Step 10000/12500, Loss 0.5426\n",
            "Epoch 10/10, Step 12000/12500, Loss 0.0565\n",
            "Accuracy of the network: 62.96 %\n",
            "Accuracy of plane: 58.6 %\n",
            "Accuracy of car: 76.2 %\n",
            "Accuracy of bird: 54.4 %\n",
            "Accuracy of cat: 42.6 %\n",
            "Accuracy of deer: 59.5 %\n",
            "Accuracy of dog: 53.1 %\n",
            "Accuracy of frog: 73.2 %\n",
            "Accuracy of house: 69.5 %\n",
            "Accuracy of ship: 70.8 %\n",
            "Accuracy of truck: 71.7 %\n"
          ]
        }
      ]
    },
    {
      "cell_type": "code",
      "source": [],
      "metadata": {
        "id": "P6YYPVxEt8wm"
      },
      "execution_count": 7,
      "outputs": []
    }
  ]
}